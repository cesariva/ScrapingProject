{
 "cells": [
  {
   "cell_type": "code",
   "execution_count": 28,
   "metadata": {},
   "outputs": [
    {
     "data": {
      "text/plain": [
       "200"
      ]
     },
     "execution_count": 28,
     "metadata": {},
     "output_type": "execute_result"
    }
   ],
   "source": [
    "#Para realizar las consultas HTTP\n",
    "import requests\n",
    "#Para realizar el parsing del HTML\n",
    "from bs4 import BeautifulSoup\n",
    "#Para interpretar el json\n",
    "import json\n",
    "#Pagina a consultar\n",
    "page=requests.get(\"https://www.tenable.com/plugins/nessus/421\")\n",
    "#verifica el codigo de respuesta.\n",
    "page.status_code\n"
   ]
  },
  {
   "cell_type": "code",
   "execution_count": 29,
   "metadata": {},
   "outputs": [
    {
     "name": "stdout",
     "output_type": "stream",
     "text": [
      "<h1>Oops, something went wrong.</h1>\n",
      "{\"props\":{\"pageProps\":{\"plugin\":{},\"type\":\"nessus\",\"dependencyIds\":[],\"errorStatus\":404},\"cookies\":{}},\"page\":\"/plugin\",\"query\":{\"type\":\"nessus\",\"id\":\"421\"},\"buildId\":\"p2AdntJYBx284YSUAvgCl\",\"assetPrefix\":\"/plugins\"}\n"
     ]
    }
   ],
   "source": [
    "#Almacena el contenido de la página\n",
    "soup=BeautifulSoup(page.content)\n",
    "print(soup.h1)\n",
    "#Analizando el contendio de la página se identificó una estructura en json \n",
    "#que se incluye al fina de la página bajo el id \"NEXT_DATA\"\n",
    "tenab_json=soup.find(id=\"__NEXT_DATA__\").text\n",
    "print(tenab_json)\n",
    "\n",
    "\n"
   ]
  },
  {
   "cell_type": "code",
   "execution_count": 24,
   "metadata": {},
   "outputs": [
    {
     "data": {
      "text/plain": [
       "{'props': {'pageProps': {'plugin': {'script_family': 'Windows : Microsoft Bulletins',\n",
       "    'filename': 'smb_nt_ms09-058.nasl',\n",
       "    'script_version': '1.24',\n",
       "    'script_name': 'MS09-058: Vulnerabilities in Windows Kernel Could Allow Elevation of Privilege (971486)',\n",
       "    'script_copyright': 'This script is Copyright (C) 2009-2018 Tenable Network Security, Inc.',\n",
       "    'script_id': 42114,\n",
       "    'cves': ['CVE-2009-2515', 'CVE-2009-2516', 'CVE-2009-2517'],\n",
       "    'bids': ['36623', '36624', '36625'],\n",
       "    'preferences': [],\n",
       "    'dependencies': ['smb_hotfixes.nasl', 'ms_bulletin_checks_possible.nasl'],\n",
       "    'exploitability_ease': 'Exploits are available',\n",
       "    'vuln_publication_date': '2009/10/13',\n",
       "    'cpe': ['cpe:/o:microsoft:windows'],\n",
       "    'cvss_temporal_vector': 'CVSS2#E:F/RL:OF/RC:C',\n",
       "    'exploit_framework_core': 'true',\n",
       "    'solution': 'Microsoft has released a set of patches for Windows 2000, XP, 2003, Vista and 2008.',\n",
       "    'risk_factor': 'High',\n",
       "    'cvss_temporal_score': 6.3,\n",
       "    'description': 'The remote Windows host is running a version of the Windows kernel that is affected by multiple vulnerabilities :\\n\\n  - An elevation of privilege vulnerability exists in the     Windows kernel due to the incorrect truncation of a 64-     bit value to a 32-bit value.  An attacker who     successfully exploited this vulnerability could run     arbitrary code in kernel mode. An attacker could then     install programs, view / change / delete data, or     create new accounts with full user rights.\\n    (CVE-2009-2515)\\n\\n  - An elevation of privilege vulnerability exists in the     Windows kernel due to the incorrect truncation of a 64-     bit value to a 32-bit value.  An attacker who     successfully exploited this vulnerability could run     arbitrary code in kernel mode. An attacker could then     install programs, view / change / delete data, or     create new accounts with full user rights.\\n    (CVE-2009-2516)\\n\\n  - A denial of service vulnerability exists in the Windows     kernel because of the way the kernel handles certain     exceptions.  An attacker could exploit the     vulnerability by running a specially crafted     application causing the system to restart.\\n    (CVE-2009-2517)',\n",
       "    'plugin_publication_date': '2009/10/13',\n",
       "    'cvss_vector': 'CVSS2#AV:N/AC:H/Au:N/C:C/I:C/A:C',\n",
       "    'plugin_type': 'local',\n",
       "    'synopsis': 'The Windows kernel is vulnerable to multiple buffer overflow attacks.',\n",
       "    'patch_publication_date': '2009/10/13',\n",
       "    'see_also': ['https://docs.microsoft.com/en-us/security-updates/SecurityBulletins/2009/ms09-058'],\n",
       "    'exploit_available': 'true',\n",
       "    'plugin_modification_date': '2018/11/15',\n",
       "    'cvss_base_score': 7.6,\n",
       "    'msft': 'MS09-058',\n",
       "    'mskb': '971486',\n",
       "    'cwe': '264',\n",
       "    'vpr_score': '7.4',\n",
       "    'xrefs': {'MSFT': ['MS09-058'], 'MSKB': ['971486'], 'CWE': ['189', '264']},\n",
       "    'risk_factor_score': 4,\n",
       "    'product': 'nessus',\n",
       "    'agent': ['windows'],\n",
       "    'script_required_ports': ['139', '445', 'Host/patch_management_checks']},\n",
       "   'type': 'nessus',\n",
       "   'dependencyIds': [13855, 57033],\n",
       "   'errorStatus': False},\n",
       "  'cookies': {}},\n",
       " 'page': '/plugin',\n",
       " 'query': {'type': 'nessus', 'id': '42114'},\n",
       " 'buildId': 'p2AdntJYBx284YSUAvgCl',\n",
       " 'assetPrefix': '/plugins'}"
      ]
     },
     "execution_count": 24,
     "metadata": {},
     "output_type": "execute_result"
    }
   ],
   "source": [
    "#Convierte el contenido json en un diccionario se que pueda \n",
    "newDictionary=json.loads(tenab_json)\n",
    "newDictionary"
   ]
  }
 ],
 "metadata": {
  "kernelspec": {
   "display_name": "Python 3",
   "language": "python",
   "name": "python3"
  },
  "language_info": {
   "codemirror_mode": {
    "name": "ipython",
    "version": 3
   },
   "file_extension": ".py",
   "mimetype": "text/x-python",
   "name": "python",
   "nbconvert_exporter": "python",
   "pygments_lexer": "ipython3",
   "version": "3.7.1"
  }
 },
 "nbformat": 4,
 "nbformat_minor": 2
}
